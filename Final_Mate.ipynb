{
 "cells": [
  {
   "cell_type": "markdown",
   "id": "3c2a1ac4-3cac-48a0-8651-13d1bac8164c",
   "metadata": {},
   "source": [
    "## Matematicas Especiales 2024\n",
    "### Programa Final\n",
    "\n",
    "Este es un programa para resolver ecuaciones diferenciales mediante el metodo de la tranformada de Laplace\n",
    "\n",
    "Hecho por Tomas Di Leo en Python 3\n"
   ]
  },
  {
   "cell_type": "markdown",
   "id": "7e6cccc2-eff2-4b9f-8b3a-fb00ab66ee09",
   "metadata": {},
   "source": [
    "Primero importamos la libreria SYMPY para trabajar con simbolos y espresiones LATEX"
   ]
  },
  {
   "cell_type": "code",
   "execution_count": 224,
   "id": "633f70c0-8bdf-4d32-932b-7cd8755ac012",
   "metadata": {},
   "outputs": [],
   "source": [
    "from sympy import *"
   ]
  },
  {
   "cell_type": "markdown",
   "id": "19c33900-6560-4d2a-87de-57961b3931c5",
   "metadata": {},
   "source": [
    "### Simbolos\n",
    ">Defino *t* y *s* como simbolos para que el programa los trate como variables.<br>\n",
    "Defino *y* como una funcion.<br>\n",
    "Defino *Y* como la transformada de laplace de dicha funcion. Esto nos va a ayudar luego para resolver"
   ]
  },
  {
   "cell_type": "code",
   "execution_count": 225,
   "id": "7f55e770-efd2-4b3c-a8f9-bab38aeebf5f",
   "metadata": {},
   "outputs": [],
   "source": [
    "t, s = symbols(\"t, s\")\n",
    "y = Function(\"y\")\n",
    "Y = laplace_transform(y(t), t, s, noconds=True)"
   ]
  },
  {
   "cell_type": "markdown",
   "id": "86f9b8ec-268d-4aba-baf0-54f297fb5de4",
   "metadata": {},
   "source": [
    "### Ecuacion Diferencial\n",
    "\n",
    ">Defino eq la ecuacion diferencial siendo:<br>\n",
    "\n",
    "- *y(t)* la funcion\n",
    "- *y(t).diff(t)* la funcion derivada respecto a t, o *y'*\n",
    "- *y(t).diff(t, t)* la funcion derivada dos veces respecto a t, o *y''*\n",
    "\n",
    "Las dos partes de la ecuacion estan separadas por una coma en dos lineas de la siguiente manera<br>\n",
    "___\n",
    "```python\n",
    "Eq(\n",
    "    PARTE_IZQUIERDA, \n",
    "    PARTE_DERECHA\n",
    ")\n",
    "```\n",
    "___\n",
    "Equivalente a:\n",
    "___\n",
    "$PARTE\\_IZQUIERDA = PARTE\\_DERECHA$\n"
   ]
  },
  {
   "cell_type": "code",
   "execution_count": 226,
   "id": "15d870e1-0b74-45c7-85cf-0c10aa088856",
   "metadata": {},
   "outputs": [
    {
     "data": {
      "image/png": "[encoded data removed]",
      "text/latex": [
       "$\\displaystyle 9 y{\\left(t \\right)} - 10 \\frac{d}{d t} y{\\left(t \\right)} + \\frac{d^{2}}{d t^{2}} y{\\left(t \\right)} = 5 \\sin{\\left(t \\right)} + \\cos{\\left(t \\right)}$"
      ],
      "text/plain": [
       "                         2                          \n",
       "            d           d                           \n",
       "9⋅y(t) - 10⋅──(y(t)) + ───(y(t)) = 5⋅sin(t) + cos(t)\n",
       "            dt           2                          \n",
       "                       dt                           "
      ]
     },
     "execution_count": 226,
     "metadata": {},
     "output_type": "execute_result"
    }
   ],
   "source": [
    "eq = Eq(\n",
    "    y(t).diff(t, t) - 10 * y(t).diff(t) + 9 * y(t),\n",
    "    5 * sin(t) + cos(t)\n",
    ")\n",
    "\n",
    "eq\n",
    "#ECUACION DIFERENCIAL"
   ]
  },
  {
   "cell_type": "markdown",
   "id": "422191e0-98b2-49f2-ab60-95ed1d26522e",
   "metadata": {},
   "source": [
    "### Condiciones Iniciales\n",
    "Defino las condiciones iniciales siendo \n",
    "\n",
    "- *y(0)* la funcion evaluada en 0\n",
    "- *y(t).diff(t).subs(t, 0)* la primera derivada de la funcion evaluada en 0, o *y''(0)*"
   ]
  },
  {
   "cell_type": "code",
   "execution_count": 227,
   "id": "052d5d9d-592b-4b46-84e4-6b0a02c8a9b8",
   "metadata": {},
   "outputs": [],
   "source": [
    "initial = {\n",
    "    y(0):-1,\n",
    "    y(t).diff(t).subs(t, 0):2\n",
    "}"
   ]
  },
  {
   "cell_type": "markdown",
   "id": "d04e487b-4eef-45df-a419-c0083dc72318",
   "metadata": {},
   "source": [
    "### Aplicar la transformada de Laplace\n",
    "Defino la ecuacion como *eq_s* aplicando la tranformada de laplace y note:\n",
    "\n",
    "- La seccion izquierda es la que lleva las funciones y se les aplica las condiciones iniciales con la funcion \"subs\"\n",
    "- La siguiente seccion esta separada en otra linea por una coma de la misma manera que se define la ecuacion diferencial\n",
    "- La tabla de transformadas forman parte de la funcion *laplace_transform()* y existen en la libreria SYMPY\n"
   ]
  },
  {
   "cell_type": "code",
   "execution_count": 228,
   "id": "ebf6103b-a783-49d8-bcd6-fa6eacfef4e2",
   "metadata": {},
   "outputs": [],
   "source": [
    "eq_s = Eq(\n",
    "    laplace_transform(eq.lhs, t,  s, noconds=True).subs(initial),\n",
    "    laplace_transform(eq.rhs, t,  s, noconds=True)\n",
    ")"
   ]
  },
  {
   "cell_type": "markdown",
   "id": "170033e8-d214-4353-b929-bb647e197c6a",
   "metadata": {},
   "source": [
    "### Resolucion de la ecuacion transformada\n",
    "Resuelvo la ecuacion antes definida como *eq_s* para *Y* (la tranformada de la funcion que queremos hallar)"
   ]
  },
  {
   "cell_type": "code",
   "execution_count": 229,
   "id": "69b632fb-29d9-4366-96d2-6c67d48e6cb4",
   "metadata": {},
   "outputs": [
    {
     "data": {
      "image/png": "[encoded data removed]",
      "text/latex": [
       "$\\displaystyle \\mathcal{L}_{t}\\left[y{\\left(t \\right)}\\right]\\left(s\\right) = \\frac{- s^{3} + 12 s^{2} + 17}{s^{4} - 10 s^{3} + 10 s^{2} - 10 s + 9}$"
      ],
      "text/plain": [
       "                                        3       2           \n",
       "                                     - s  + 12⋅s  + 17      \n",
       "LaplaceTransform(y(t), t, s) = ─────────────────────────────\n",
       "                                4       3       2           \n",
       "                               s  - 10⋅s  + 10⋅s  - 10⋅s + 9"
      ]
     },
     "execution_count": 229,
     "metadata": {},
     "output_type": "execute_result"
    }
   ],
   "source": [
    "solved = solve(eq_s, Y)[0]\n",
    "Eq(\n",
    "    Y,\n",
    "    solved\n",
    ")"
   ]
  },
  {
   "cell_type": "code",
   "execution_count": 230,
   "id": "9a06a80d-fe11-4d94-b3ac-53388f3cc770",
   "metadata": {},
   "outputs": [
    {
     "data": {
      "image/png": "[encoded data removed]",
      "text/latex": [
       "$\\displaystyle \\mathcal{L}_{t}\\left[y{\\left(t \\right)}\\right]\\left(s\\right) = \\frac{29 s + 15}{82 \\left(s^{2} + 1\\right)} - \\frac{7}{4 \\left(s - 1\\right)} + \\frac{65}{164 \\left(s - 9\\right)}$"
      ],
      "text/plain": [
       "                                29⋅s + 15        7            65    \n",
       "LaplaceTransform(y(t), t, s) = ─────────── - ───────── + ───────────\n",
       "                                  ⎛ 2    ⎞   4⋅(s - 1)   164⋅(s - 9)\n",
       "                               82⋅⎝s  + 1⎠                          "
      ]
     },
     "execution_count": 230,
     "metadata": {},
     "output_type": "execute_result"
    }
   ],
   "source": [
    "Eq(\n",
    "    Y,\n",
    "    solved.apart()\n",
    ")"
   ]
  },
  {
   "cell_type": "markdown",
   "id": "5f904f8e-fa9a-4bae-8d9d-3c5679b4dbf0",
   "metadata": {},
   "source": [
    "### Antitransformada\n",
    "Defino f, la transformada inversa y completo la solucion definiendo la ecuacion final"
   ]
  },
  {
   "cell_type": "code",
   "execution_count": 231,
   "id": "d6331fa7-4456-4196-84a3-b683267707d1",
   "metadata": {},
   "outputs": [],
   "source": [
    "f = inverse_laplace_transform(apart(solved), s, t)\n",
    "solucion = collect(f.expand(), Heaviside(t))/Heaviside(t)\n",
    "\n",
    "ecuacion_final = Eq(\n",
    "    y(t),\n",
    "    solucion\n",
    ")"
   ]
  },
  {
   "cell_type": "markdown",
   "id": "4c54cbfd-cf37-44de-83f1-8bc9adee73b3",
   "metadata": {},
   "source": [
    "**El resultado final**"
   ]
  },
  {
   "cell_type": "code",
   "execution_count": 232,
   "id": "e15cc130-3e72-4a90-98f2-f1375030f5c0",
   "metadata": {},
   "outputs": [
    {
     "data": {
      "image/png": "[encoded data removed]",
      "text/latex": [
       "$\\displaystyle y{\\left(t \\right)} = \\frac{65 e^{9 t}}{164} - \\frac{7 e^{t}}{4} + \\frac{15 \\sin{\\left(t \\right)}}{82} + \\frac{29 \\cos{\\left(t \\right)}}{82}$"
      ],
      "text/plain": [
       "           9⋅t      t                        \n",
       "       65⋅ℯ      7⋅ℯ    15⋅sin(t)   29⋅cos(t)\n",
       "y(t) = ─────── - ──── + ───────── + ─────────\n",
       "         164      4         82          82   "
      ]
     },
     "execution_count": 232,
     "metadata": {},
     "output_type": "execute_result"
    }
   ],
   "source": [
    "ecuacion_final"
   ]
  }
 ],
 "metadata": {
  "kernelspec": {
   "display_name": "Python 3 (ipykernel)",
   "language": "python",
   "name": "python3"
  },
  "language_info": {
   "codemirror_mode": {
    "name": "ipython",
    "version": 3
   },
   "file_extension": ".py",
   "mimetype": "text/x-python",
   "name": "python",
   "nbconvert_exporter": "python",
   "pygments_lexer": "ipython3",
   "version": "3.12.1"
  }
 },
 "nbformat": 4,
 "nbformat_minor": 5
}
